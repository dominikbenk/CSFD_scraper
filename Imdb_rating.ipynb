{
 "cells": [
  {
   "cell_type": "code",
   "execution_count": null,
   "metadata": {},
   "outputs": [],
   "source": [
    "class ImdbRating:\n",
    "    \n",
    "    def __init__(self,title,year):\n",
    "        self.title = title\n",
    "        self.year = year\n",
    "        self.unaccented = unidecode.unidecode(self.title).replace(\" \",\"+\")\n",
    "        \n",
    "    def getAndParse(self,url):\n",
    "        result = requests.get(url)\n",
    "        soup = BeautifulSoup(result.text, 'html.parser')\n",
    "        return(soup)\n",
    "    \n",
    "    def GetRatingLink(self):  \n",
    "        search_pattern = \"https://www.imdb.com/search/title/?title={}&release_date={}-01-01,{}-12-31\"\n",
    "        search_link = search_pattern.format(self.unaccented,self.year,self.year)\n",
    "        soup = self.getAndParse(search_link)\n",
    "        title_number = soup.find(\"h3\",class_=\"lister-item-header\").a.get(\"href\")\n",
    "        rating_link = \"https://www.imdb.com\" + title_number + \"ratings?ref_=tt_ov_rt\"\n",
    "        return(rating_link)\n",
    "    \n",
    "    def GetRating(self):\n",
    "        soup = self.getAndParse(self.GetRatingLink())\n",
    "        rating_distribution = [s.text for s in soup.find(\"div\",class_=\"title-ratings-sub-page\").table.find_all(\"div\",class_=\"leftAligned\")][1:]\n",
    "        \n",
    "        rating_table = [s.find(\"div\",class_=\"bigcell\").text for s in soup.find_all(\"td\",class_=\"ratingTable\")]\n",
    "        \n",
    "        ''' Male - Female '''\n",
    "        rating_MFdifference = float(rating_table[5])-float(rating_table[10])\n",
    "        ''' non-US - US '''\n",
    "        rating_USdifference = float(rating_table[17])-float(rating_table[16])\n",
    "        \n",
    "        rating_labels = [\"IMDB_\" + str(i)+\"star\" for i in range(10,0,-1)] + [\"IMDB_MF_diff\",\"IMDB_US_diff\"]\n",
    "        rating_values = rating_distribution\n",
    "        rating_values.extend([rating_MFdifference,rating_USdifference])\n",
    "        \n",
    "        output = pd.DataFrame([rating_values],columns=rating_labels)\n",
    "        return(output) "
   ]
  }
 ],
 "metadata": {
  "kernelspec": {
   "display_name": "Python 3",
   "language": "python",
   "name": "python3"
  },
  "language_info": {
   "codemirror_mode": {
    "name": "ipython",
    "version": 3
   },
   "file_extension": ".py",
   "mimetype": "text/x-python",
   "name": "python",
   "nbconvert_exporter": "python",
   "pygments_lexer": "ipython3",
   "version": "3.7.5"
  }
 },
 "nbformat": 4,
 "nbformat_minor": 4
}
