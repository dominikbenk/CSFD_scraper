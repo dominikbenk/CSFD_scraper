{
 "cells": [
  {
   "cell_type": "code",
   "execution_count": null,
   "metadata": {},
   "outputs": [],
   "source": [
    "class Ranker:\n",
    "    '''\n",
    "    Ranks the films according to the criteria specified.\n",
    "    '''\n",
    "    def __init__(self, dataset):\n",
    "        self.data = dataset\n",
    "        \n",
    "    def rank(self, number = 'NA', genre = 'NA', country = 'NA', year_lower = 0, year_upper = 2100, duration_lower = 0, duration_upper = 50000, director = 'NA', weightCSFD = 1):\n",
    "        self.data['weighted rating'] = weightCSFD*self.data['CSFD avg rating (%)']+(1-weightCSFD)*10*self.data['IMDB avg rating']\n",
    "        years = range(year_lower, year_upper)\n",
    "        duration = range(duration_lower, duration_upper)\n",
    "        if (weightCSFD > 1) or (weightCSFD < 0):\n",
    "            raise ValueError('Please, specify a value between 0 and 1 for weightCSFD.')\n",
    "        \n",
    "        subset = self.data\n",
    "        if genre != 'NA':\n",
    "            subset = subset.loc[[genre in val for val in subset.genre]]\n",
    "        if country != 'NA':\n",
    "            subset = subset.loc[[country in val for val in subset.origin]]\n",
    "        if years != 'NA':\n",
    "            subset = subset.loc[(subset.year.isin(years))]\n",
    "        if duration != 'NA':\n",
    "            subset = subset.loc[subset['length (min)'].isin(duration)]\n",
    "        if director != 'NA':\n",
    "            subset = subset.loc[[director in val for val in subset.director]]\n",
    "\n",
    "        subset = subset.sort_values(by = ['weighted rating'], ascending = False)\n",
    "        \n",
    "        if (number != 'NA') and (number <= subset.shape[0]):\n",
    "            subset = subset.iloc[0:number]\n",
    "        subset.reset_index(drop=True, inplace=True)\n",
    "        \n",
    "        def path_to_image_html(path):\n",
    "            return '<img src=\"'+ path + '\"/>'\n",
    "        \n",
    "        return(HTML(subset.to_html(escape=False,render_links=True,formatters=dict(poster=path_to_image_html))))\n",
    "        \n",
    "rankerinst = Ranker(dataset = csfdinst.data)\n",
    "rankerinst.rank(number = 11, genre = 'Akční', country = 'USA', year_lower = 1980, year_upper = 2010, duration_lower = 60, duration_upper = 180, weightCSFD = 0.1)"
   ]
  }
 ],
 "metadata": {
  "kernelspec": {
   "display_name": "Python 3",
   "language": "python",
   "name": "python3"
  },
  "language_info": {
   "codemirror_mode": {
    "name": "ipython",
    "version": 3
   },
   "file_extension": ".py",
   "mimetype": "text/x-python",
   "name": "python",
   "nbconvert_exporter": "python",
   "pygments_lexer": "ipython3",
   "version": "3.7.3"
  }
 },
 "nbformat": 4,
 "nbformat_minor": 2
}
