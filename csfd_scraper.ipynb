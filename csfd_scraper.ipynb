{
 "cells": [
  {
   "cell_type": "code",
   "execution_count": 24,
   "metadata": {},
   "outputs": [],
   "source": [
    "import requests\n",
    "import pandas as pd\n",
    "from bs4 import BeautifulSoup\n",
    "import time\n",
    "\n",
    "class csfd:\n",
    "\n",
    "    def __init__(self):\n",
    "            self.titles = []\n",
    "            self.url = []\n",
    "            self.filmlinks = []\n",
    "            self.headers = {\"User-Agent\": \"Mozilla/5.0 (Windows NT 10.0; Win64; x64) AppleWebKit/537.36 (KHTML, like Gecko) Chrome/74.0.3729.169 Safari/537.36\"}\n",
    "\n",
    "    def FilmLinks(self, link, info, secondinfo): \n",
    "            response = requests.get(link, headers = self.headers)\n",
    "            souped = BeautifulSoup(response.text, 'html.parser')\n",
    "            self.souped = souped\n",
    "            self.allurl = [x.a.get('href') for x in self.souped.findAll(info, secondinfo)]\n",
    "            self.concaturl = [['https://www.csfd.cz' + str(x) for x in self.allurl]]\n",
    "            \n",
    "            for page in range(2, 3):\n",
    "                url = 'https://www.csfd.cz/podrobne-vyhledavani/podle-rating_average/strana-'+str(page)+'/?type%5B0%5D=0&genre%5Btype%5D=2&genre%5Binclude%5D%5B0%5D=&genre%5Bexclude%5D%5B0%5D=&origin%5Btype%5D=2&origin%5Binclude%5D%5B0%5D=&origin%5Bexclude%5D%5B0%5D=&year_from=&year_to=&rating_from=&rating_to=&actor=&director=&composer=&screenwriter=&author=&cinematographer=&production=&edit=&sound=&scenography=&mask=&costumes=&tag=&ok=Hledat&_form_=film'\n",
    "                response = requests.get(url, headers = self.headers)\n",
    "                souped = BeautifulSoup(response.text, 'html.parser')\n",
    "                self.souped = souped\n",
    "                self.allurl = [x.a.get('href') for x in self.souped.findAll(info, secondinfo)]\n",
    "                self.concaturl.append(['https://www.csfd.cz' + str(x) for x in self.allurl])\n",
    "                \n",
    "            self.filmlinks = []\n",
    "            for sublist in self.concaturl:\n",
    "                for item in sublist:\n",
    "                    self.filmlinks.append(item)\n",
    "            print(self.filmlinks)\n",
    "            return(self.filmlinks)\n",
    "            \n",
    "            \n",
    "    def FilmData(self, filmlinks):\n",
    "            self.titles = []\n",
    "            self.titlesdirty = []\n",
    "            for filmurl in filmlinks:\n",
    "                response = requests.get(filmurl, headers = self.headers)\n",
    "                souped = BeautifulSoup(response.text, 'html.parser')\n",
    "                self.titlesdirty.append(souped.find('h1', {'itemprop':'name'}).string)\n",
    "                print(souped.find('h1', {'itemprop':'name'}).string)\n",
    "                time.sleep(5)\n",
    "            print(self.titlesdirty)\n",
    "            self.titles = [title.replace(\"\\t\",\"\").replace(\"\\n\",\"\") for title in self.titlesdirty]\n",
    "            print(self.titles)\n",
    "            \n",
    "            "
   ]
  }
 ],
 "metadata": {
  "kernelspec": {
   "display_name": "Python 3",
   "language": "python",
   "name": "python3"
  },
  "language_info": {
   "codemirror_mode": {
    "name": "ipython",
    "version": 3
   },
   "file_extension": ".py",
   "mimetype": "text/x-python",
   "name": "python",
   "nbconvert_exporter": "python",
   "pygments_lexer": "ipython3",
   "version": "3.7.3"
  }
 },
 "nbformat": 4,
 "nbformat_minor": 2
}
