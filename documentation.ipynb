{
 "cells": [
  {
   "cell_type": "markdown",
   "metadata": {},
   "source": [
    "# The Film Ranker\n",
    "### Dominik Benk, Miroslav Duda\n",
    "\n",
    "The aim of our project is to provide a script, which will collect data from Česko-Slovenská filmová databáze (ČSFD), and Internet Movie Database (IMDb), with a focus on ratings, visualize these ratings, and rank the scraped films according to criteria specified by the user.\n",
    "\n",
    "The script scrapes the required data from the individual pages of the films on both databases, and consolidates them into a data frame. According to the conditions specified, a function then prints an ordered list of films. The ordering conditions include the film's duration, rating, and genre. The user may also specify the desired weight of the films' rating on ČSFD compared to IMDb ratings.\n",
    "\n",
    "We hope that this tool provides a simple way of ranking and comparing films based on their selected attributes.\n",
    "\n",
    "## Documentation of the functions\n",
    "\n",
    "### csfd\n",
    "Class csfd contains the following functions:\n",
    "\n",
    "FilmLinks():\n",
    "Uses the built-in ČSFD search feature to collect the links of the individual films, which are then scraped for specific info.\n",
    "\n",
    "GetData():\n",
    "Scrapes the ČSFD links for each film individually, and gathers the scraped data into a Pandas dataframe.\n",
    "\n",
    "PrintData(nrows):\n",
    "Prints the dataframe created through GetDara, with added posters for each film.\n",
    "The nrows argument specifies how many rows of the dataframe should be printed.\n",
    "\n",
    "### ImdbRating\n",
    "class ImdbRating contains the following functions:\n",
    "\n",
    "getAndParse(url):\n",
    "\n",
    "GetRatingLink():\n",
    "\n",
    "GetRating():\n",
    "\n",
    "### Ranker\n",
    "class Ranker only contains the rank() function:\n",
    "\n",
    "The rank() class subsets the dataframe composed of scraped data, finds the top films according to the requirements of the user, and returns a new dataframe containing this list.\n",
    "\n",
    "The functionalities of the arguments of the rank() function are as follows:\n",
    "\n",
    "number - The number of ranked films to be returned by the function. If the number of films which satisfy the criteria is lower than this variable, it has no effect.\n",
    "\n",
    "genre - A string specifying a genre. \n",
    "\n",
    "country - A string specifying the country of origin.\n",
    "\n",
    "year_lower - An integer specifying the lower bound for the interval in which the film was made.<br>\n",
    "year_upper - An integer specifying the upper bound for the interval in which the film was made.\n",
    "\n",
    "duration_lower - An integer specifying the lower bound for the interval of the film's desired length.<br>\n",
    "duration_upper - An integer specifying the upper bound for the interval of the film's desired length.\n",
    "\n",
    "director - A string specifying the name of the film's director.\n",
    "\n",
    "weightCSFD - A float taking values between 0 and 1, which determines the weight of the ČSFD average rating as opposed to IMDB ratings."
   ]
  }
 ],
 "metadata": {
  "kernelspec": {
   "display_name": "Python 3",
   "language": "python",
   "name": "python3"
  },
  "language_info": {
   "codemirror_mode": {
    "name": "ipython",
    "version": 3
   },
   "file_extension": ".py",
   "mimetype": "text/x-python",
   "name": "python",
   "nbconvert_exporter": "python",
   "pygments_lexer": "ipython3",
   "version": "3.7.3"
  }
 },
 "nbformat": 4,
 "nbformat_minor": 2
}
